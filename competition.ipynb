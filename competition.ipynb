{
 "cells": [
  {
   "cell_type": "code",
   "execution_count": 1,
   "id": "cda19f0d",
   "metadata": {},
   "outputs": [],
   "source": [
    "import pandas as pd\n",
    "import pathlib\n",
    "import tensorflow as tf\n",
    "import os\n",
    "import shutil\n",
    "import livelossplot \n",
    "from sklearn.metrics import log_loss"
   ]
  },
  {
   "cell_type": "code",
   "execution_count": 2,
   "id": "5fa677a0",
   "metadata": {
    "scrolled": true
   },
   "outputs": [],
   "source": [
    "pd.set_option('display.max_rows',None)\n",
    "\n",
    "train_path='C:/Users/gimaevra94/Documents/local/competition/train.csv'\n",
    "test_path='C:/Users/gimaevra94/Documents/local/competition/test.csv'\n",
    "\n",
    "train_data=pd.read_csv(train_path,dtype=str)\n",
    "test_data=pd.read_csv(test_path,dtype=str)"
   ]
  },
  {
   "cell_type": "code",
   "execution_count": 3,
   "id": "30ff1b7b",
   "metadata": {},
   "outputs": [],
   "source": [
    "# в train_data много строк без указания типа данных\n",
    "# в correct_names все строки с указанием типа данных\n",
    "# по этому я возьму строки из correct_names\n",
    "# и заменю ими строки из train_data\n",
    "\n",
    "correct_names=pd.read_csv(os.getcwd()+'\\\\correct_names.txt')\n",
    "correct_names=pd.Series(correct_names.items())\n",
    "\n",
    "#там изначально полные пути. достаю только имена\n",
    "correct_names=[name[60:] for name in correct_names[0][1]]\n",
    "\n",
    "# если имя без указания типа данных из correct_names\n",
    "# совпадает с именем без указания типа данных из train_data\n",
    "# то уже полное имя из из correct_names correct_names \n",
    "# заменяет полное имя из train_data\n",
    "for name in correct_names:\n",
    "    for _,row in train_data.iterrows():\n",
    "        if name[:10] == row['id']:\n",
    "            row['id']=name\n",
    "            \n",
    "for name in correct_names:\n",
    "    for _,row in test_data.iterrows():\n",
    "        if name[:10] == row['id']:\n",
    "            row['id']=name"
   ]
  },
  {
   "cell_type": "code",
   "execution_count": 4,
   "id": "25115a91",
   "metadata": {},
   "outputs": [],
   "source": [
    "# имена изображений разделены на два файла\n",
    "# но сами изображения лежат в общей папке\n",
    "# теперь, исходя из исправленных имен в train_data и test_data\n",
    "# я разделю изображения по папкам\n",
    "\n",
    "# папки для разделения\n",
    "os.makedirs('C:/Users/gimaevra94/Documents/local/competition/test/test_')\n",
    "os.makedirs('C:/Users/gimaevra94/Documents/local/competition/train')\n",
    "\n",
    "os.makedirs('C:/Users/gimaevra94/Documents/local/competition/train/0')\n",
    "os.makedirs('C:/Users/gimaevra94/Documents/local/competition/train/1')\n",
    "\n",
    "# путь где лежат несортированные изображения\n",
    "imgs_path='C:/Users/gimaevra94/Documents/local/competition/images/'\n",
    "\n",
    "# сорировка по папкам исходя из имен в train_data и test_data\n",
    "for _, row in train_data.iterrows():\n",
    "    label=row['target']\n",
    "    img_old_path=imgs_path+row['id']\n",
    "    img_new_path=os.path.join('C:/Users/gimaevra94/Documents/local/competition/train/'+label,row['id'])\n",
    "    shutil.copy(img_old_path,img_new_path)\n",
    "\n",
    "for _, row in test_data.iterrows():\n",
    "    img_old_path=imgs_path+row['id']\n",
    "    img_new_path=os.path.join('C:/Users/gimaevra94/Documents/local/competition/test/test_',row['id'])\n",
    "    shutil.copy(img_old_path,img_new_path)"
   ]
  },
  {
   "cell_type": "code",
   "execution_count": 5,
   "id": "dd0399d4",
   "metadata": {},
   "outputs": [
    {
     "data": {
      "image/png": "[encoded data removed]",
      "text/plain": [
       "<Figure size 1200x800 with 2 Axes>"
      ]
     },
     "metadata": {},
     "output_type": "display_data"
    },
    {
     "name": "stdout",
     "output_type": "stream",
     "text": [
      "Loss\n",
      "\tloss             \t (min:    0.116, max:    0.706, cur:    0.116)\n",
      "\b\b\b\b\b\b\b\b\b\b\b\b\b\b\b\b\b\b\b\b\b\b\b\b\b\b\b\b\b\b\b\b\b\b\b\b\b\b\b\b\b\b\b\b\b\b\b\b\b\b\b\b\b\b\b\b\b\b\b\b\b\b\b\r",
      "32/32 [==============================] - 9s 284ms/step - loss: 0.1155\n"
     ]
    }
   ],
   "source": [
    "# дериктории для генераторов\n",
    "base_dir=pathlib.Path().parent/'C:/Users/gimaevra94/Documents/local/competition/'\n",
    "train_dir=base_dir/'train'\n",
    "test_dir=base_dir/'test'\n",
    "\n",
    "fl_dir=train_dir/'0'\n",
    "tr_dir=train_dir/'1'\n",
    "\n",
    "val_dir=test_dir/'test_'\n",
    "\n",
    "# легкая сеть предобученная на имеджнете \n",
    "preprocess_input_=tf.keras.applications.mobilenet_v2.preprocess_input\n",
    "\n",
    "# препроцессинг от этой сети\n",
    "train_gen=tf.keras.preprocessing.image.ImageDataGenerator(preprocessing_function=preprocess_input_)\n",
    "test_gen=tf.keras.preprocessing.image.ImageDataGenerator(preprocessing_function=preprocess_input_)\n",
    "\n",
    "# генераторы\n",
    "train=train_gen.flow_from_directory(target_size=(96,96),\n",
    "                                   color_mode='rgb',\n",
    "                                   class_mode='binary',\n",
    "                                   directory=train_dir)\n",
    "\n",
    "test=test_gen.flow_from_directory(target_size=(96,96),\n",
    "                                   color_mode='rgb',\n",
    "                                   class_mode='binary',\n",
    "                                   directory=test_dir,\n",
    "                                    shuffle=False)\n",
    "\n",
    "# веса imagenet т.к. сеть обучалась именно на нем\n",
    "base_model=tf.keras.applications.MobileNetV2(input_shape=(96,96,3),\n",
    "                                       include_top=False,\n",
    "                                       weights='imagenet')\n",
    "\n",
    "# обучение всей сети выключено \n",
    "# потому что обучаться будет\n",
    "# только 1 дополнительный слой\n",
    "base_model.trainable=False\n",
    "\n",
    "# подсмотрел в одном видео что этот слой неплохой вариант\n",
    "# само собой сигмоида\n",
    "model = tf.keras.Sequential([\n",
    "  base_model,\n",
    "  tf.keras.layers.GlobalAveragePooling2D(),\n",
    "  tf.keras.layers.Dense(1, activation='sigmoid')\n",
    "])\n",
    "\n",
    "# оптимайзер выбрал дефолтный\n",
    "# ошибка само собой бинарная кроссэнтропия\n",
    "model.compile(optimizer=tf.keras.optimizers.Adam(learning_rate=0.0001),\n",
    "              loss='binary_crossentropy')\n",
    "\n",
    "# добавил коллбек чтобы смотреть \n",
    "# как ведет себя ошибка в реальном времени\n",
    "history=model.fit(x=train,\n",
    "                    epochs=100,\n",
    "                    batch_size=64,\n",
    "                    callbacks=[livelossplot.PlotLossesKeras()])"
   ]
  },
  {
   "cell_type": "code",
   "execution_count": 6,
   "id": "2b794d6e",
   "metadata": {
    "scrolled": true
   },
   "outputs": [
    {
     "name": "stdout",
     "output_type": "stream",
     "text": [
      "16/16 [==============================] - 7s 341ms/step\n"
     ]
    }
   ],
   "source": [
    "# предсказания\n",
    "preds=model.predict(test)\n",
    "\n",
    "\n",
    "preds2=list()\n",
    "\n",
    "# убираю лишнее в переменной с предсказаниями\n",
    "for pred in preds:\n",
    "    value=str(pred[0])\n",
    "    value2=value.replace(',', '.')\n",
    "    preds2.append(round(float(value2),1))\n",
    "    \n",
    "preds=preds2.copy()\n",
    "\n",
    "# теперь предсказания нужно склеить\n",
    "# со строками для которых они делались\n",
    "\n",
    "# беру имена из генератора\n",
    "test_names=[name[6:] for name in test.filenames]\n",
    "\n",
    "# порядок имен и предсказаний в генераторе един\n",
    "# по этому просто склеиваю их в пандасе\n",
    "result=pd.DataFrame({'id':test_names,'target':preds})\n",
    "\n",
    "\n",
    "for_sort=list()\n",
    "\n",
    "# кагл требует порядок предсказаний как в test_data\n",
    "# беру истинный порядок из test_data\n",
    "# и для каждой строки из test_data \n",
    "# прохожусь по строкам result пока не найду совпадения\n",
    "# таким образом в итоговый файл строки будут попадать\n",
    "# в порядке из test_data\n",
    "for _,row in test_data.iterrows():\n",
    "    for _2,row2 in result.iterrows():\n",
    "        if row[0][:10] == row2[0][:10]:\n",
    "            for_sort.append(row2)\n",
    "            \n",
    "# итоговый файл который едет в сабмит\n",
    "result=pd.DataFrame(for_sort).reset_index()\n",
    "result.drop(columns=['index'],inplace=True)"
   ]
  }
 ],
 "metadata": {
  "kernelspec": {
   "display_name": "Python 3 (ipykernel)",
   "language": "python",
   "name": "python3"
  },
  "language_info": {
   "codemirror_mode": {
    "name": "ipython",
    "version": 3
   },
   "file_extension": ".py",
   "mimetype": "text/x-python",
   "name": "python",
   "nbconvert_exporter": "python",
   "pygments_lexer": "ipython3",
   "version": "3.11.5"
  }
 },
 "nbformat": 4,
 "nbformat_minor": 5
}
